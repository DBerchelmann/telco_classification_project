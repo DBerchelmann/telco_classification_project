{
 "cells": [
  {
   "cell_type": "markdown",
   "metadata": {},
   "source": [
    "---------------------------------------------------\n",
    "<h1>TELCO CHURN ANALYSIS</h1>\n",
    "  <h6> by David Berchelmann -- March 9, 2021 </h6>\n",
    "  \n",
    "  ------------------------------------------------"
   ]
  },
  {
   "cell_type": "markdown",
   "metadata": {},
   "source": [
    "\n"
   ]
  },
  {
   "cell_type": "markdown",
   "metadata": {},
   "source": [
    "<h3><u>We want to answer a question</u></h3>\n",
    "          \n",
    "</br>\n",
    "\n",
    "<i><font color = red><h4>Why are customers churning?</h4></font></i>\n",
    "</br>\n",
    "   - <b>How will we go about this?</b>\n",
    "        * Acquire the Data\n",
    "        * Prepare \n",
    "        * Explore \n",
    "        * Evaluate\n",
    "        * Create Recommendations Based On Findings </list>"
   ]
  },
  {
   "cell_type": "markdown",
   "metadata": {},
   "source": []
  }
 ],
 "metadata": {
  "kernelspec": {
   "display_name": "Python 3",
   "language": "python",
   "name": "python3"
  },
  "language_info": {
   "codemirror_mode": {
    "name": "ipython",
    "version": 3
   },
   "file_extension": ".py",
   "mimetype": "text/x-python",
   "name": "python",
   "nbconvert_exporter": "python",
   "pygments_lexer": "ipython3",
   "version": "3.8.5"
  }
 },
 "nbformat": 4,
 "nbformat_minor": 4
}
